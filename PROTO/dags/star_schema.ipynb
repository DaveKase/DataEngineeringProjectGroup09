{
 "cells": [
  {
   "cell_type": "code",
   "execution_count": 1,
   "metadata": {},
   "outputs": [],
   "source": [
    "import duckdb\n",
    "from datetime import datetime, timedelta\n",
    "import os"
   ]
  },
  {
   "cell_type": "code",
   "execution_count": 2,
   "metadata": {},
   "outputs": [],
   "source": [
    "DUCKDB_FILE = r\"C:\\Users\\marvi\\OneDrive\\Dokumendid\\Andmeteadus\\data_engineering\\repo\\DataEngineeringProjectGroup09\\PROTO\\mnt\\tmp\\duckdb_data\\combined_data.duckdb\"\n",
    "conn = duckdb.connect(DUCKDB_FILE)"
   ]
  },
  {
   "cell_type": "code",
   "execution_count": 3,
   "metadata": {},
   "outputs": [
    {
     "name": "stdout",
     "output_type": "stream",
     "text": [
      "Tables in the database:\n",
      "consumption_cleaned\n",
      "consumption_data\n",
      "price_cleaned\n",
      "price_data\n",
      "production_cleaned\n",
      "production_data\n",
      "weather_data\n",
      "weather_cleaned\n"
     ]
    }
   ],
   "source": [
    "tables = conn.execute(\"SELECT table_name FROM information_schema.tables WHERE table_schema = 'main';\").fetchall()\n",
    "\n",
    "# Print the tables\n",
    "print(\"Tables in the database:\")\n",
    "for table in tables:\n",
    "    print(table[0])"
   ]
  }
 ],
 "metadata": {
  "kernelspec": {
   "display_name": "Python 3",
   "language": "python",
   "name": "python3"
  },
  "language_info": {
   "codemirror_mode": {
    "name": "ipython",
    "version": 3
   },
   "file_extension": ".py",
   "mimetype": "text/x-python",
   "name": "python",
   "nbconvert_exporter": "python",
   "pygments_lexer": "ipython3",
   "version": "3.10.6"
  }
 },
 "nbformat": 4,
 "nbformat_minor": 2
}
